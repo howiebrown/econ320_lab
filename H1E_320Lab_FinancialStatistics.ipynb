{
 "cells": [
  {
   "cell_type": "markdown",
   "metadata": {},
   "source": [
    "\n",
    "<h1 style=\"text-align: center; color: purple;\" markdown=\"1\">Econ 320 Python Lab. Financial Analysis Through Basic Statistics </h1>\n",
    "<h2 style=\"text-align: center; color: purple;\" markdown=\"1\">Handout 1 </h2>"
   ]
  },
  {
   "cell_type": "markdown",
   "metadata": {},
   "source": [
    "Today, you will experience your first economist professional role in this class. You will be a financial economist that is in charge of optimizing an investment portfolio. You will be using Python to analyze the data and make recommendations, while refreshing the main concepts. But you won't be on your own. Naturally, economists work in teams. Therefore, you will be working in groups of 4 students. Each of you should adopt a role in the team. The roles are:"
   ]
  },
  {
   "cell_type": "markdown",
   "metadata": {},
   "source": [
    "<table border=\"1\" cellpadding=\"6\" cellspacing=\"0\" style=\"border-collapse: collapse; width: 100%;\">\n",
    "  <thead style=\"background-color: #f2f2f2;\">\n",
    "    <tr>\n",
    "      <th>Role</th>\n",
    "      <th>Description</th>\n",
    "    </tr>\n",
    "  </thead>\n",
    "  <tbody>\n",
    "    <tr>\n",
    "      <td><strong>Facilitator</strong></td>\n",
    "      <td>Keeps the group focused on the task, ensures balanced participation, manages discussion flow, and monitors time.</td>\n",
    "    </tr>\n",
    "    <tr>\n",
    "      <td><strong>Recorder</strong></td>\n",
    "      <td>Documents the group’s ideas, methods, and results clearly and accurately for later review or submission.</td>\n",
    "    </tr>\n",
    "    <tr>\n",
    "      <td><strong>Spokesperson</strong></td>\n",
    "      <td>Summarizes the group’s conclusions and presents them to the instructor or class on behalf of the team.</td>\n",
    "    </tr>\n",
    "    <tr>\n",
    "      <td><strong>Researcher</strong></td>\n",
    "      <td>Finds and provides relevant information, definitions, or methods the group needs to advance their work.</td>\n",
    "    </tr>\n",
    "  </tbody>\n",
    "</table>\n"
   ]
  },
  {
   "cell_type": "markdown",
   "metadata": {},
   "source": [
    "That is, the spokesperson will be the main person with whom I will interact, but I can always ask questions to anyone in the group regarding their role or their own interpretation."
   ]
  },
  {
   "cell_type": "markdown",
   "metadata": {},
   "source": [
    "#### Import the necessary packages into your notebook\n",
    "\n",
    "It is a good practice to import all the packages you will be using at the beginning of your notebook. You can always add more packages later if needed. If along the way you realize you need to load or install a package, please do so in the box below."
   ]
  },
  {
   "cell_type": "code",
   "execution_count": 2,
   "metadata": {},
   "outputs": [],
   "source": [
    "# See for instance how to import these two packages that might be needed for today's lab:\n",
    "import numpy as np \n",
    "import pandas as pd\n"
   ]
  },
  {
   "cell_type": "markdown",
   "metadata": {},
   "source": [
    "### Get the data\n",
    "\n",
    "The company that you are working on wants to build a portfolio with 5 The first thing you have to do is to go to the webpage <a href=\"https://www.investing.com/\" target=\"_blank\">investing.com</a> and download data for 5 stock assets of your choice in weekly frequency. In order to do this, you can look up the name of the stock or financial asset in the search bar of the web page and then click on \"historical data\" and then select the frequency to be weekly and then click on download data. You will have to do this for 5 different assets of your choice. Tip: You can choose assets from different sectors and industries to diversify your portfolio.\n",
    "\n",
    "Make sure to extract one column for each asset that represents the weekly percentage return. Then, you can manually put one column next to the other in an excel file and save it with column names representing each of the variables, so that you can import it into a pandas data frame in the following box:\n"
   ]
  },
  {
   "cell_type": "code",
   "execution_count": 7,
   "metadata": {},
   "outputs": [
    {
     "name": "stdout",
     "output_type": "stream",
     "text": [
      "       GOOG    Meta\n",
      "0    0.0092  0.0009\n",
      "1    0.0071  0.0157\n",
      "2    0.0914  0.0026\n",
      "3   -0.0073 -0.0049\n",
      "4    0.0060 -0.0165\n",
      "..      ...     ...\n",
      "960  0.0039  0.0157\n",
      "961  0.0114  0.0128\n",
      "962  0.0080  0.0108\n",
      "963  0.0135 -0.0058\n",
      "964 -0.0307  0.0198\n",
      "\n",
      "[965 rows x 2 columns]\n"
     ]
    }
   ],
   "source": [
    "# Here is an example that I got from ChatGPT of how to load an Excel file into a DataFrame:\n",
    "df = pd.read_excel(\"Change_Price.xlsx\", engine=\"openpyxl\")\n",
    "print(df)"
   ]
  },
  {
   "cell_type": "markdown",
   "metadata": {},
   "source": [
    "<div style=\"border:1px solid #ccc;padding:12px;background:#fafafa\">\n",
    "<h3>Exercise 1 — Conceptual question</h3>\n",
    "<p>Why do you guys think we are taking the percentage return instead of the price values per week?</p>\n",
    "<p><em>Answer:</em> We are looking at percentage return because price value is not standardized for the company. Each company has different size, and number of shares, so looking at percentage change allows us to actually compare them.</p>\n",
    "</div>"
   ]
  },
  {
   "cell_type": "markdown",
   "metadata": {},
   "source": [
    "<div style=\"border:1px solid #ccc;padding:12px;background:#fafafa;margin:10px 0;\">\n",
    "  <h3>Exercise 2 — Mean &amp; median (average weekly return)</h3>\n",
    "  <p><strong>Goal:</strong> Compute the average return per asset and compare with the median.</p>\n",
    "  <p><strong>Why:</strong> Mean ≈ expected weekly return; median is robust to outliers.</p>\n",
    "  <p><strong>Question:</strong> If the mean and median returns differ a lot, what does that suggest about the distribution of returns?</p>\n",
    "  <p><em>Answer:</em> For Meta and Google, their means and medians both only differ by 0.04% which indicates that the distribution of returns are evenly distributed around the center without significant outliers</p>\n",
    "</div>"
   ]
  },
  {
   "cell_type": "code",
   "execution_count": 15,
   "metadata": {},
   "outputs": [
    {
     "name": "stdout",
     "output_type": "stream",
     "text": [
      "GOOG -> Mean: 0.0007, Median: 0.0011\n",
      "Meta -> Mean: 0.0013, Median: 0.0009\n"
     ]
    }
   ],
   "source": [
    "# code here\n",
    "# code here\n",
    "\n",
    "# Calculate mean and median for each column\n",
    "for col in [\"GOOG\", \"Meta\"]:\n",
    "    mean_val = df[col].mean()\n",
    "    median_val = df[col].median()\n",
    "    print(f\"{col} -> Mean: {mean_val:.4f}, Median: {median_val:.4f}\")"
   ]
  },
  {
   "cell_type": "markdown",
   "metadata": {},
   "source": [
    "<div style=\"border:1px solid #ccc;padding:12px;background:#fafafa;margin:10px 0;\">\n",
    "  <h3>Exercise 3 — Volatility (risk) via standard deviation</h3>\n",
    "  <p><strong>Goal:</strong> Compute weekly and annualized volatility for each asset.</p>\n",
    "  <p><strong>Why:</strong> Std. dev. is a classic proxy for risk; annualization helps compare across horizons.</p>\n",
    "  <p><strong>Interpretation Question:</strong> How would you explain the difference between weekly and annualized volatility to an investor?</p>\n",
    "  <p><em>Answer:</em> Weekly volatility measures the dispersion of returns within one week verse annualization which scales the risk across one year. This is useful since it allows for the risk to be put on the same time horizon making it useful to compare the risk of different investments. </p>\n",
    "</div>\n"
   ]
  },
  {
   "cell_type": "code",
   "execution_count": 17,
   "metadata": {},
   "outputs": [
    {
     "name": "stdout",
     "output_type": "stream",
     "text": [
      "      Daily Volatility  Weekly Volatility  Annualized Volatility\n",
      "GOOG          0.020501           0.045841               0.325439\n",
      "Meta          0.029434           0.065817               0.467257\n"
     ]
    }
   ],
   "source": [
    "# code here\n",
    "\n",
    "# Keep just the return columns\n",
    "cols = [\"GOOG\", \"Meta\"]\n",
    "\n",
    "# Calculate daily std dev\n",
    "daily_std = df[cols].std()\n",
    "\n",
    "# Convert to weekly and annualized vol\n",
    "weekly_vol = daily_std * np.sqrt(5)\n",
    "annualized_vol = daily_std * np.sqrt(252)\n",
    "\n",
    "# Put results in a nice DataFrame\n",
    "vol_df = pd.DataFrame({\n",
    "    \"Daily Volatility\": daily_std,\n",
    "    \"Weekly Volatility\": weekly_vol,\n",
    "    \"Annualized Volatility\": annualized_vol\n",
    "})\n",
    "\n",
    "print(vol_df)"
   ]
  },
  {
   "cell_type": "markdown",
   "metadata": {},
   "source": [
    "<div style=\"border:1px solid #ccc;padding:12px;background:#fafafa;margin:10px 0;\">\n",
    "  <h3>Exercise 4 — Correlation &amp; covariance (diversification)</h3>\n",
    "  <p><strong>Goal:</strong> Compute the correlation and covariance matrices.</p>\n",
    "  <p><strong>Why:</strong> Lower (or negative) correlation = better diversification.</p>\n",
    "  <p><strong>Interpretation Question:</strong> Which pair of assets would you combine to reduce portfolio risk the most, and why?</p>\n",
    "  <p><em>Answer:</em> NA</p>\n",
    "</div>\n"
   ]
  },
  {
   "cell_type": "code",
   "execution_count": 18,
   "metadata": {},
   "outputs": [
    {
     "name": "stdout",
     "output_type": "stream",
     "text": [
      "Correlation Matrix:\n",
      "           GOOG      Meta\n",
      "GOOG  1.000000  0.580659\n",
      "Meta  0.580659  1.000000 \n",
      "\n",
      "Covariance Matrix:\n",
      "          GOOG      Meta\n",
      "GOOG  0.00042  0.000350\n",
      "Meta  0.00035  0.000866\n"
     ]
    }
   ],
   "source": [
    "# code here\n",
    "\n",
    "# Select the return columns\n",
    "cols = [\"GOOG\", \"Meta\"]\n",
    "\n",
    "# Correlation matrix\n",
    "corr_matrix = df[cols].corr()\n",
    "\n",
    "# Covariance matrix\n",
    "cov_matrix = df[cols].cov()\n",
    "\n",
    "print(\"Correlation Matrix:\\n\", corr_matrix, \"\\n\")\n",
    "print(\"Covariance Matrix:\\n\", cov_matrix)"
   ]
  },
  {
   "cell_type": "markdown",
   "metadata": {},
   "source": [
    "<div style=\"border:1px solid #ccc;padding:12px;background:#fafafa;margin:10px 0;\">\n",
    "  <h3>Exercise 5 — Tail risk: 5% worst losses (VaR) &amp; CVaR</h3>\n",
    "  <p><strong>Goal:</strong> Estimate the 5% Value-at-Risk (VaR) and Conditional VaR (Expected Shortfall).</p>\n",
    "  <p><strong>Why:</strong> Captures extreme downside. Use historical estimates.</p>\n",
    "  <p><strong>Interpretation Question:</strong> What does the 5% Value-at-Risk tell you about the likelihood of large losses? How does CVaR add extra information?</p>\n",
    "  <p><em>Answer:</em> __________________________________________</p>\n",
    "</div>\n"
   ]
  },
  {
   "cell_type": "code",
   "execution_count": 20,
   "metadata": {},
   "outputs": [
    {
     "name": "stdout",
     "output_type": "stream",
     "text": [
      "       5% VaR   5% CVaR\n",
      "GOOG -0.03186 -0.045716\n",
      "Meta -0.04088 -0.062561\n"
     ]
    }
   ],
   "source": [
    "# code here\n",
    "\n",
    "cols = [\"GOOG\", \"Meta\"]\n",
    "\n",
    "results = {}\n",
    "\n",
    "for col in cols:\n",
    "    # Drop NaN values (just in case)\n",
    "    returns = df[col].dropna()\n",
    "    \n",
    "    # 5% Value-at-Risk (VaR)\n",
    "    var_5 = np.percentile(returns, 5)\n",
    "    \n",
    "    # Conditional VaR (Expected Shortfall)\n",
    "    cvar_5 = returns[returns <= var_5].mean()\n",
    "    \n",
    "    results[col] = {\"5% VaR\": var_5, \"5% CVaR\": cvar_5}\n",
    "\n",
    "# Convert to DataFrame for nice formatting\n",
    "risk_df = pd.DataFrame(results).T\n",
    "print(risk_df)\n"
   ]
  },
  {
   "cell_type": "markdown",
   "metadata": {},
   "source": [
    "<div style=\"border:1px solid #ccc;padding:12px;background:#fafafa;margin:10px 0;\">\n",
    "  <h3>Exercise 6 — Skewness &amp; kurtosis</h3>\n",
    "  <p><strong>Goal:</strong> Measure asymmetry (skew) and tail heaviness (kurtosis).</p>\n",
    "  <p><strong>Why:</strong> Helps explain why mean/std may not tell the whole risk story.</p>\n",
    "  <p><strong>Interpretation Question:</strong> Why might a negatively skewed asset with high kurtosis be considered risky, even if its mean return is positive? Make a histogram of each of the assets' returns. Does the value of the kurtosis align with what you observe?</p>\n",
    "  <p><em>Answer:</em> 6) A negatively skewed asset with high kurtosis is a risky investment because it means that the asset has had really bad weeks in the past with a high likelihood of sudden drops in value. The value of kurtosis does align with what we observed as we see Meta having a higher frequency of super negative return weeks than GOOG</p>\n",
    "</div>\n"
   ]
  },
  {
   "cell_type": "code",
   "execution_count": 22,
   "metadata": {},
   "outputs": [
    {
     "data": {
      "image/png": "[encoded data removed]",
      "text/plain": [
       "<Figure size 600x400 with 1 Axes>"
      ]
     },
     "metadata": {},
     "output_type": "display_data"
    },
    {
     "data": {
      "image/png": "[encoded data removed]",
      "text/plain": [
       "<Figure size 600x400 with 1 Axes>"
      ]
     },
     "metadata": {},
     "output_type": "display_data"
    },
    {
     "name": "stdout",
     "output_type": "stream",
     "text": [
      "      Skewness  Excess Kurtosis\n",
      "GOOG  0.066369          3.07498\n",
      "Meta -0.160479         19.77318\n"
     ]
    }
   ],
   "source": [
    "import pandas as pd\n",
    "import matplotlib.pyplot as plt\n",
    "from scipy.stats import skew, kurtosis\n",
    "\n",
    "# Assuming df already loaded with your Excel file\n",
    "cols = [\"GOOG\", \"Meta\"]\n",
    "\n",
    "results = {}\n",
    "\n",
    "for col in cols:\n",
    "    returns = df[col].dropna()\n",
    "    \n",
    "    # Skewness\n",
    "    skew_val = skew(returns)\n",
    "    \n",
    "    # Excess kurtosis\n",
    "    kurt_val = kurtosis(returns, fisher=True)\n",
    "    \n",
    "    results[col] = {\"Skewness\": skew_val, \"Excess Kurtosis\": kurt_val}\n",
    "    \n",
    "    # Plot histogram\n",
    "    plt.figure(figsize=(6,4))\n",
    "    plt.hist(returns, bins=40, edgecolor=\"black\", alpha=0.7)\n",
    "    plt.title(f\"Histogram of {col} Returns\")\n",
    "    plt.xlabel(\"Return\")\n",
    "    plt.ylabel(\"Frequency\")\n",
    "    plt.axvline(returns.mean(), color=\"red\", linestyle=\"dashed\", linewidth=2, label=\"Mean\")\n",
    "    plt.legend()\n",
    "    plt.show()\n",
    "\n",
    "# Summary table\n",
    "moments_df = pd.DataFrame(results).T\n",
    "print(moments_df)\n"
   ]
  },
  {
   "cell_type": "markdown",
   "metadata": {},
   "source": [
    "<div style=\"border:1px solid #ccc;padding:12px;background:#fafafa;margin:10px 0;\">\n",
    "  <h3>Exercise 7 — Equal-weight portfolio</h3>\n",
    "  <p><strong>Goal:</strong> Form an equal-weight portfolio across the five assets; compute weekly mean, volatility, and <strong>Sharpe ratio</strong>.</p>\n",
    "  <p><strong>Why:</strong> Connect asset stats to portfolio stats and diversification.</p>\n",
    "  <p><strong>Interpretation Question:</strong> How does the portfolio’s volatility compare to the average individual asset volatility, and what does this say about diversification?</p>\n",
    "  <p><em>Answer:</em> The portfolio's volativity lies in the middle of both assets individual asset volatility. This says that diversifying the portfolio provides a balance between both asset's weekly volatility.</p>\n",
    "</div>\n"
   ]
  },
  {
   "cell_type": "code",
   "execution_count": 23,
   "metadata": {},
   "outputs": [
    {
     "name": "stdout",
     "output_type": "stream",
     "text": [
      "Weekly Mean Return: 0.0050\n",
      "Weekly Volatility: 0.0498\n",
      "Sharpe Ratio: 0.1001\n"
     ]
    }
   ],
   "source": [
    "# code here\n",
    "\n",
    "# Select your 5 asset columns\n",
    "cols = [\"GOOG\", \"Meta\"]\n",
    "\n",
    "# Compute equal-weighted daily portfolio returns\n",
    "df[\"Portfolio\"] = df[cols].mean(axis=1)\n",
    "\n",
    "# Daily statistics\n",
    "daily_mean = df[\"Portfolio\"].mean()\n",
    "daily_std = df[\"Portfolio\"].std()\n",
    "\n",
    "# Convert to weekly\n",
    "weekly_mean = daily_mean * 5\n",
    "weekly_vol = daily_std * np.sqrt(5)\n",
    "\n",
    "# Sharpe ratio (assuming risk-free = 0)\n",
    "sharpe_ratio = weekly_mean / weekly_vol\n",
    "\n",
    "print(f\"Weekly Mean Return: {weekly_mean:.4f}\")\n",
    "print(f\"Weekly Volatility: {weekly_vol:.4f}\")\n",
    "print(f\"Sharpe Ratio: {sharpe_ratio:.4f}\")\n"
   ]
  },
  {
   "cell_type": "markdown",
   "metadata": {},
   "source": [
    "<div style=\"border:1px solid #ccc;padding:12px;background:#fafafa;margin:10px 0;\">\n",
    "  <h3>Exercise 8 — Rolling stats</h3>\n",
    "  <p><strong>Goal:</strong> Compute 26-week rolling mean and rolling volatility for one asset and for the equal-weight portfolio.</p>\n",
    "  <p><strong>Why:</strong> Risk and return change over time; rolling windows show dynamics.</p>\n",
    "  <p><strong>Interpretation Question:</strong> What does the rolling volatility pattern suggest about how stable or unstable the asset/portfolio risk is over time?</p>\n",
    "  <p><em>Answer:</em> The rolling volatility pattern suggests that risk is not constant over time — it fluctuates with market conditions. Periods of elevated volatility indicate times when returns were more uncertain, while periods of lower volatility indicate greater stability. For the portfolio, the rolling volatility shows whether diversification reduces these swings compared to a single asset.</p>\n",
    "</div>\n"
   ]
  },
  {
   "cell_type": "code",
   "execution_count": 25,
   "metadata": {},
   "outputs": [
    {
     "name": "stdout",
     "output_type": "stream",
     "text": [
      "     GOOG_roll_mean  GOOG_roll_vol  Port_roll_mean  Port_roll_vol\n",
      "960       -0.009442       0.046269       -0.013569       0.060875\n",
      "961       -0.008746       0.046332       -0.013229       0.060933\n",
      "962       -0.008173       0.046360       -0.011867       0.060803\n",
      "963       -0.008296       0.046316       -0.012181       0.060749\n",
      "964       -0.008400       0.046378       -0.011138       0.060460\n"
     ]
    }
   ],
   "source": [
    "# code here\n",
    "import pandas as pd\n",
    "import numpy as np\n",
    "\n",
    "\n",
    "# Your 2 assets\n",
    "cols = [\"GOOG\", \"Meta\"]\n",
    "\n",
    "# Equal-weighted daily portfolio\n",
    "portfolio = df[cols].mean(axis=1)\n",
    "\n",
    "# Rolling window size: 26 weeks ~ 130 trading days\n",
    "window = 130\n",
    "\n",
    "# Build new DataFrame with rolling stats\n",
    "roll_df = pd.DataFrame({\n",
    "    \"GOOG_roll_mean\": df[\"GOOG\"].rolling(window).mean() * 5,\n",
    "    \"GOOG_roll_vol\": df[\"GOOG\"].rolling(window).std() * np.sqrt(5),\n",
    "    \"Port_roll_mean\": portfolio.rolling(window).mean() * 5,\n",
    "    \"Port_roll_vol\": portfolio.rolling(window).std() * np.sqrt(5)\n",
    "})\n",
    "\n",
    "# Show the last few rows\n",
    "print(roll_df.tail())"
   ]
  },
  {
   "cell_type": "markdown",
   "metadata": {},
   "source": [
    "<div style=\"border:1px solid #ccc;padding:12px;background:#fafafa;margin:10px 0;\">\n",
    "  <h3>Exercise 9 — Hypothesis test (μ &gt; 0)</h3>\n",
    "  <p><strong>Goal:</strong> For each asset, test H₀: μ = 0 vs H₁: μ &gt; 0 (one-sided t-test).</p>\n",
    "  <p><strong>Why:</strong> Practice connecting sample statistics to inference.</p>\n",
    "  <p><strong>Interpretation Question:</strong> If an asset’s p-value is high, how would you explain to a client whether the asset has reliably positive returns?</p>\n",
    "  <p><em>Answer:</em> A high p-value means we do not have strong statistical evidence that the asset’s average return is greater than zero. In practical terms, this doesn’t prove the asset has no positive returns — it just means the returns we’ve observed could plausibly be due to random fluctuations. Therefore, we cannot confidently say the asset delivers reliably positive returns, and any expectation of consistent gains should be treated with caution.</p>\n",
    "</div>\n"
   ]
  },
  {
   "cell_type": "code",
   "execution_count": 12,
   "metadata": {},
   "outputs": [
    {
     "name": "stdout",
     "output_type": "stream",
     "text": [
      "\n",
      "Asset: GOOG\n",
      "  Mean return: 0.00069\n",
      "  t-statistic: 1.0397\n",
      "  One-sided p-value: 0.1494\n",
      "\n",
      "Asset: Meta\n",
      "  Mean return: 0.00131\n",
      "  t-statistic: 1.3816\n",
      "  One-sided p-value: 0.0837\n",
      "\n",
      "Asset: Week\n",
      "  Mean return: 96.00000\n",
      "  t-statistic: 53.4994\n",
      "  One-sided p-value: 0.0000\n"
     ]
    }
   ],
   "source": [
    "# code here\n",
    "from scipy import stats\n",
    "\n",
    "results = {}\n",
    "\n",
    "for col in df.columns:\n",
    "    # One-sample t-test (two-sided)\n",
    "    t_stat, p_val_two_sided = stats.ttest_1samp(df[col], 0)\n",
    "\n",
    "    # Convert to one-sided test (μ > 0)\n",
    "    if t_stat > 0:\n",
    "        p_val_one_sided = p_val_two_sided / 2\n",
    "    else:\n",
    "        p_val_one_sided = 1 - (p_val_two_sided / 2)\n",
    "\n",
    "    results[col] = {\n",
    "        \"t-stat\": t_stat,\n",
    "        \"p-value (one-sided)\": p_val_one_sided,\n",
    "        \"mean return\": df[col].mean()\n",
    "    }\n",
    "\n",
    "# Display results\n",
    "for asset, vals in results.items():\n",
    "    print(f\"\\nAsset: {asset}\")\n",
    "    print(f\"  Mean return: {vals['mean return']:.5f}\")\n",
    "    print(f\"  t-statistic: {vals['t-stat']:.4f}\")\n",
    "    print(f\"  One-sided p-value: {vals['p-value (one-sided)']:.4f}\")\n"
   ]
  },
  {
   "cell_type": "markdown",
   "metadata": {},
   "source": [
    "<div style=\"border:1px solid #ccc;padding:12px;background:#fafafa;margin:10px 0;\">\n",
    "  <h3>Exercise 10 — Worst weeks &amp; quantiles</h3>\n",
    "  <p><strong>Goal:</strong> Identify each asset’s worst weekly return and the date it occurred; report 1%, 5%, 10% quantiles.</p>\n",
    "  <p><strong>Why:</strong> Concrete feel for downside events and tail thresholds.</p>\n",
    "  <p><strong>Interpretation Question:</strong> What does the date of the worst week tell you about market conditions at that time?</p>\n",
    "  <p><em>Answer:</em> Interpretation of market conditions:\n",
    "\n",
    "GOOG (July 2023): This period aligns with rising interest rates and tech-sector volatility as the Fed tightened policy to combat inflation. Investors rotated out of growth/tech, causing large drawdowns in companies like Google.\n",
    "\n",
    "Meta (December 2024): By late 2024, markets were still sensitive to high interest rates, inflation concerns, and geopolitical uncertainty. Tech stocks, including Meta, experienced sharper sell-offs, reflecting both broader market stress and sector-specific headwinds (e.g., ad revenue uncertainty, regulation).\n",
    "\n",
    "The dates of the worst weeks align with periods of heightened volatility in financial markets — reflecting macroeconomic uncertainty, Fed policy tightening, and investor pullbacks from tech stocks. These market-wide conditions, rather than company-specific news alone, explain the sharp downturns.</p>\n",
    "</div>\n"
   ]
  },
  {
   "cell_type": "code",
   "execution_count": 13,
   "metadata": {},
   "outputs": [
    {
     "name": "stdout",
     "output_type": "stream",
     "text": [
      "Worst weekly returns and week number:\n",
      "GOOG: worst week = -0.1123, week = 93.0\n",
      "Meta: worst week = -0.2817, week = 179.0\n",
      "\n",
      "Quantiles (1%, 5%, 10%):\n",
      "          GOOG      Meta\n",
      "0.01 -0.089730 -0.162430\n",
      "0.05 -0.059493 -0.078101\n",
      "0.10 -0.048119 -0.060107\n"
     ]
    }
   ],
   "source": [
    "# ---- Step 1: Create a \"week\" index ----\n",
    "# Assume each row is 1 trading day; 5 trading days = 1 week\n",
    "df['Week'] = np.floor(df.index / 5)   # integer week number\n",
    "\n",
    "# ---- Step 2: Aggregate into weekly compounded returns ----\n",
    "weekly = df.drop(columns=['Week']).groupby(df['Week']).apply(lambda x: (1 + x).prod() - 1)\n",
    "\n",
    "# ---- Step 3: Find worst week for each asset ----\n",
    "worst_weeks = weekly.idxmin()\n",
    "worst_returns = weekly.min()\n",
    "\n",
    "print(\"Worst weekly returns and week number:\")\n",
    "for col in weekly.columns:\n",
    "    print(f\"{col}: worst week = {worst_returns[col]:.4f}, week = {worst_weeks[col]}\")\n",
    "\n",
    "# ---- Step 4: Quantiles ----\n",
    "quantiles = weekly.quantile([0.01, 0.05, 0.10])\n",
    "\n",
    "print(\"\\nQuantiles (1%, 5%, 10%):\")\n",
    "print(quantiles)\n"
   ]
  },
  {
   "cell_type": "markdown",
   "metadata": {},
   "source": [
    "<hr />\n",
    "\n",
    "<p style=\"text-align: center;\">ECON320 Python Programming Laboratory</a></p>\n",
    "<p style=\"text-align: center;\">Instructor <em> Guido Anthony Romero</em></a></p>\n",
    "<p style=\"text-align: center;\"><span style=\"color: #6666FF;\"><em>guido.romero@emory.edu</em></span></p>\n",
    "\n",
    "<p style=\"text-align: center;\">Department of Economics</a></p>\n",
    "<p style=\"text-align: center;\">Emory University</a></p>\n",
    "\n",
    "&nbsp;"
   ]
  }
 ],
 "metadata": {
  "kernelspec": {
   "display_name": "qtm151",
   "language": "python",
   "name": "python3"
  },
  "language_info": {
   "codemirror_mode": {
    "name": "ipython",
    "version": 3
   },
   "file_extension": ".py",
   "mimetype": "text/x-python",
   "name": "python",
   "nbconvert_exporter": "python",
   "pygments_lexer": "ipython3",
   "version": "3.11.6"
  }
 },
 "nbformat": 4,
 "nbformat_minor": 4
}
